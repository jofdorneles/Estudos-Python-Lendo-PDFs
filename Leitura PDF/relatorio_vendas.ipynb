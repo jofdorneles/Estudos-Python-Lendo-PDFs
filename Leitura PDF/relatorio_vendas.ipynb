{
  "nbformat": 4,
  "nbformat_minor": 0,
  "metadata": {
    "colab": {
      "name": "relatorio_vendas.ipynb",
      "provenance": [],
      "collapsed_sections": []
    },
    "kernelspec": {
      "name": "python3",
      "display_name": "Python 3"
    }
  },
  "cells": [
    {
      "cell_type": "markdown",
      "metadata": {
        "id": "6bo4X4qudx2S"
      },
      "source": [
        "<img alt=\"Colaboratory logo\" width=\"15%\" src=\"https://raw.githubusercontent.com/carlosfab/escola-data-science/master/img/novo_logo_bg_claro.png\">\n",
        "\n",
        "#### **Python do Zero**\n",
        "*by [sigmoidal.ai](https://sigmoidal.ai)*\n",
        "\n",
        "---\n",
        "\n",
        "## Relatórios da Empresa\n",
        "\n",
        "Agora que temos as ferramentas e o conhecimento para usá-las, é hora de botar a mão na massa, e botar todo o poder de tudo que aprendemos pra funcionar na prática.\n",
        "\n",
        "\n",
        "<center><img width=\"50%\" src=\"https://image.freepik.com/free-photo/workplace-results-professional-report-accounting-during_1418-61.jpg\"></center>\n",
        "\n",
        "Em nossa jornada rumo à automação de tarefas repetitivas em nossa rotina de trabalho, vamos aprender a extrair e utilizar informações úteis de nossos documentos.\n",
        "\n",
        "Mais uma vez utilizando a biblioteca [PDF Plumber](https://github.com/jsvine/pdfplumber) vamos extrair e manipular informações de diversos relatórios em pdf ao mesmo tempo.\n",
        "\n",
        "Para isso, vamos precisar fazer o download dos arquivos de apoio que foram disponibilizados como material complementar dessa aula. \n",
        "\n",
        "Lembrando: Nativamente, o Google Colab não possui essa biblioteca instalada, então nós precisamos instalar a mesma no nosso ambiente.\n",
        "\n",
        "Para isso, vamos utilizar o gerenciador de pacotes `pip`, e com o comando `install` vamos instalar a biblioteca."
      ]
    },
    {
      "cell_type": "markdown",
      "metadata": {
        "id": "TjNMTDAseHDn"
      },
      "source": [
        "###Projeto do curso Python do Zero - Sigmoidal"
      ]
    },
    {
      "cell_type": "code",
      "metadata": {
        "colab": {
          "base_uri": "https://localhost:8080/"
        },
        "id": "JbusyV_9J4cK",
        "outputId": "5c2bbaff-36da-4c49-98b4-0418a7328f72"
      },
      "source": [
        "# instalando o pdf plumber\n",
        "!pip install pdfplumber -q"
      ],
      "execution_count": 1,
      "outputs": [
        {
          "output_type": "stream",
          "text": [
            "\u001b[K     |████████████████████████████████| 51kB 3.2MB/s \n",
            "\u001b[K     |████████████████████████████████| 5.6MB 7.1MB/s \n",
            "\u001b[K     |████████████████████████████████| 143kB 54.7MB/s \n",
            "\u001b[K     |████████████████████████████████| 1.9MB 58.6MB/s \n",
            "\u001b[?25h  Building wheel for pdfplumber (setup.py) ... \u001b[?25l\u001b[?25hdone\n"
          ],
          "name": "stdout"
        }
      ]
    },
    {
      "cell_type": "code",
      "metadata": {
        "id": "ZfJVVUU7B4Ly",
        "colab": {
          "base_uri": "https://localhost:8080/"
        },
        "outputId": "2e11859a-73bb-4f33-b94b-f0968d90a947"
      },
      "source": [
        "# montando o drive\n",
        "from google.colab import drive\n",
        "drive.mount('/content/drive')\n",
        "\n",
        "# importando pacotes necessários\n",
        "import pdfplumber\n",
        "import os"
      ],
      "execution_count": 2,
      "outputs": [
        {
          "output_type": "stream",
          "text": [
            "Drive already mounted at /content/drive; to attempt to forcibly remount, call drive.mount(\"/content/drive\", force_remount=True).\n"
          ],
          "name": "stdout"
        }
      ]
    },
    {
      "cell_type": "code",
      "metadata": {
        "id": "PQVKKpKAJzeX"
      },
      "source": [
        "# mudar para diretório com pdfs da semana\n",
        "os.chdir('/content/drive/MyDrive/DataScience/Sigmoidal/PDZ/relatorios')"
      ],
      "execution_count": 3,
      "outputs": []
    },
    {
      "cell_type": "code",
      "metadata": {
        "colab": {
          "base_uri": "https://localhost:8080/",
          "height": 35
        },
        "id": "eZ17mWOsKrp2",
        "outputId": "1b1bf570-04eb-49cb-a5fe-56e719e071b1"
      },
      "source": [
        "# checar se estou no diretório correto\n",
        "os.getcwd()"
      ],
      "execution_count": 4,
      "outputs": [
        {
          "output_type": "execute_result",
          "data": {
            "application/vnd.google.colaboratory.intrinsic+json": {
              "type": "string"
            },
            "text/plain": [
              "'/content/drive/MyDrive/DataScience/Sigmoidal/PDZ/relatorios'"
            ]
          },
          "metadata": {
            "tags": []
          },
          "execution_count": 4
        }
      ]
    },
    {
      "cell_type": "code",
      "metadata": {
        "colab": {
          "base_uri": "https://localhost:8080/"
        },
        "id": "5FnusJ94K23t",
        "outputId": "6c266eca-2d83-4bd2-f928-4bb240acd557"
      },
      "source": [
        "# imprimir lista com arquivos no diretório\n",
        "arquivos_semana = os.listdir()\n",
        "print(arquivos_semana)"
      ],
      "execution_count": 5,
      "outputs": [
        {
          "output_type": "stream",
          "text": [
            "['20200801.pdf', '20200802.pdf', '20200803.pdf', '20200804.pdf', '20200805.pdf']\n"
          ],
          "name": "stdout"
        }
      ]
    },
    {
      "cell_type": "code",
      "metadata": {
        "id": "sNDcllhiL4ay"
      },
      "source": [
        "# abrir relatório de exemplo\n",
        "relatorio = pdfplumber.open('/content/drive/MyDrive/DataScience/Sigmoidal/PDZ/relatorios/20200801.pdf')"
      ],
      "execution_count": 6,
      "outputs": []
    },
    {
      "cell_type": "code",
      "metadata": {
        "id": "sRh3jEsxLFK2"
      },
      "source": [
        "# abrir a primeira página do relatório\n",
        "p1 = relatorio.pages[0]"
      ],
      "execution_count": 7,
      "outputs": []
    },
    {
      "cell_type": "code",
      "metadata": {
        "colab": {
          "base_uri": "https://localhost:8080/"
        },
        "id": "rFpbwk8qLzV8",
        "outputId": "fcc200e0-2d60-492e-eabc-17513412c1af"
      },
      "source": [
        "# extrair o texto da primeira página do primeiro relatório\n",
        "texto = p1.extract_text()\n",
        "print(texto)"
      ],
      "execution_count": 8,
      "outputs": [
        {
          "output_type": "stream",
          "text": [
            "SIGMOIDAL\t\n",
            "\t \t\n",
            "Relatório\tDiário\t\n",
            "Data:\t01/08/2020\t\n",
            "\t\n",
            "\t\n",
            "RECEITA:\tR$\t1297.00\t\n",
            "DADOS\tATUALIZADOS\tPOR\tCARLOS\tMELO\t\n",
            "\t\n",
            "\t\n",
            "Visitantes:\t1367\t\n",
            "A\tquantidade\tde\tvisitantes\tdiz\trespeito\ta\tvisitantes\túnicos\tvisitando\tqualquer\t\n",
            "página\tdo\tdomínio\tou\tsubdomínio\tsigmoidal.ai.\tCompreende,\tentão,\tcursos,\t\n",
            "blogs\te\tlanding\tpages.\t\n",
            "\t\n",
            "Inscritos:\t33\t\n",
            "É\tconsiderado\taqui\to\tnúmero\tde\tleads\tgerados\tpor\tmeio\tde\tcadastro\t\n",
            "voluntário\tnos\tformulários\tdo\tcabeçalho,\trodapé\tou\tmateriais\tricos\t(como\t\n",
            "eBook,\tinfográficos,\tentre\toutros).\t\n",
            "\t\n",
            "Assinantes:\t6\t\n",
            "Clientes\tassinantes\tda\tEscola\tde\tData\tScience,\tconsiderando-se\to\tplano\t\n",
            "renovável\tde\tassinatura\tmensal.\t\n",
            "\t\n"
          ],
          "name": "stdout"
        }
      ]
    },
    {
      "cell_type": "code",
      "metadata": {
        "colab": {
          "base_uri": "https://localhost:8080/",
          "height": 137
        },
        "id": "DDdqwYj7MS9i",
        "outputId": "7fa4a521-61a1-490b-9e8f-ab326513c27e"
      },
      "source": [
        "# visualizando como o chega o texto\n",
        "texto"
      ],
      "execution_count": 9,
      "outputs": [
        {
          "output_type": "execute_result",
          "data": {
            "application/vnd.google.colaboratory.intrinsic+json": {
              "type": "string"
            },
            "text/plain": [
              "'SIGMOIDAL\\t\\n\\t \\t\\nRelatório\\tDiário\\t\\nData:\\t01/08/2020\\t\\n\\t\\n\\t\\nRECEITA:\\tR$\\t1297.00\\t\\nDADOS\\tATUALIZADOS\\tPOR\\tCARLOS\\tMELO\\t\\n\\t\\n\\t\\nVisitantes:\\t1367\\t\\nA\\tquantidade\\tde\\tvisitantes\\tdiz\\trespeito\\ta\\tvisitantes\\túnicos\\tvisitando\\tqualquer\\t\\npágina\\tdo\\tdomínio\\tou\\tsubdomínio\\tsigmoidal.ai.\\tCompreende,\\tentão,\\tcursos,\\t\\nblogs\\te\\tlanding\\tpages.\\t\\n\\t\\nInscritos:\\t33\\t\\nÉ\\tconsiderado\\taqui\\to\\tnúmero\\tde\\tleads\\tgerados\\tpor\\tmeio\\tde\\tcadastro\\t\\nvoluntário\\tnos\\tformulários\\tdo\\tcabeçalho,\\trodapé\\tou\\tmateriais\\tricos\\t(como\\t\\neBook,\\tinfográficos,\\tentre\\toutros).\\t\\n\\t\\nAssinantes:\\t6\\t\\nClientes\\tassinantes\\tda\\tEscola\\tde\\tData\\tScience,\\tconsiderando-se\\to\\tplano\\t\\nrenovável\\tde\\tassinatura\\tmensal.\\t\\n\\t'"
            ]
          },
          "metadata": {
            "tags": []
          },
          "execution_count": 9
        }
      ]
    },
    {
      "cell_type": "code",
      "metadata": {
        "colab": {
          "base_uri": "https://localhost:8080/"
        },
        "id": "a2IMDgV9NCQI",
        "outputId": "e2d044d6-aa30-4f4d-a6c3-ce317898ef7e"
      },
      "source": [
        "# dividindo o texto por linhas\n",
        "texto.split('\\n')"
      ],
      "execution_count": 10,
      "outputs": [
        {
          "output_type": "execute_result",
          "data": {
            "text/plain": [
              "['SIGMOIDAL\\t',\n",
              " '\\t \\t',\n",
              " 'Relatório\\tDiário\\t',\n",
              " 'Data:\\t01/08/2020\\t',\n",
              " '\\t',\n",
              " '\\t',\n",
              " 'RECEITA:\\tR$\\t1297.00\\t',\n",
              " 'DADOS\\tATUALIZADOS\\tPOR\\tCARLOS\\tMELO\\t',\n",
              " '\\t',\n",
              " '\\t',\n",
              " 'Visitantes:\\t1367\\t',\n",
              " 'A\\tquantidade\\tde\\tvisitantes\\tdiz\\trespeito\\ta\\tvisitantes\\túnicos\\tvisitando\\tqualquer\\t',\n",
              " 'página\\tdo\\tdomínio\\tou\\tsubdomínio\\tsigmoidal.ai.\\tCompreende,\\tentão,\\tcursos,\\t',\n",
              " 'blogs\\te\\tlanding\\tpages.\\t',\n",
              " '\\t',\n",
              " 'Inscritos:\\t33\\t',\n",
              " 'É\\tconsiderado\\taqui\\to\\tnúmero\\tde\\tleads\\tgerados\\tpor\\tmeio\\tde\\tcadastro\\t',\n",
              " 'voluntário\\tnos\\tformulários\\tdo\\tcabeçalho,\\trodapé\\tou\\tmateriais\\tricos\\t(como\\t',\n",
              " 'eBook,\\tinfográficos,\\tentre\\toutros).\\t',\n",
              " '\\t',\n",
              " 'Assinantes:\\t6\\t',\n",
              " 'Clientes\\tassinantes\\tda\\tEscola\\tde\\tData\\tScience,\\tconsiderando-se\\to\\tplano\\t',\n",
              " 'renovável\\tde\\tassinatura\\tmensal.\\t',\n",
              " '\\t']"
            ]
          },
          "metadata": {
            "tags": []
          },
          "execution_count": 10
        }
      ]
    },
    {
      "cell_type": "code",
      "metadata": {
        "colab": {
          "base_uri": "https://localhost:8080/",
          "height": 35
        },
        "id": "6m2FvrRINQMb",
        "outputId": "d7080f3c-d1cc-4f3f-a4c2-2992d4fb59f1"
      },
      "source": [
        "# retirando tabulações\n",
        "texto.split('\\n')[6].replace('\\t', '')"
      ],
      "execution_count": 11,
      "outputs": [
        {
          "output_type": "execute_result",
          "data": {
            "application/vnd.google.colaboratory.intrinsic+json": {
              "type": "string"
            },
            "text/plain": [
              "'RECEITA:R$1297.00'"
            ]
          },
          "metadata": {
            "tags": []
          },
          "execution_count": 11
        }
      ]
    },
    {
      "cell_type": "code",
      "metadata": {
        "colab": {
          "base_uri": "https://localhost:8080/"
        },
        "id": "j9Gice4pNuH_",
        "outputId": "29abaa62-944e-4f9a-fe06-2c91cdf2b9cb"
      },
      "source": [
        "# retirando o R$\n",
        "texto.split('\\n')[6].replace('\\t', '').split(\"R$\")"
      ],
      "execution_count": 12,
      "outputs": [
        {
          "output_type": "execute_result",
          "data": {
            "text/plain": [
              "['RECEITA:', '1297.00']"
            ]
          },
          "metadata": {
            "tags": []
          },
          "execution_count": 12
        }
      ]
    },
    {
      "cell_type": "code",
      "metadata": {
        "colab": {
          "base_uri": "https://localhost:8080/",
          "height": 35
        },
        "id": "M9QBab7cOPT2",
        "outputId": "5fec7c93-12de-4f11-84a7-3e6ccc299b4f"
      },
      "source": [
        "# valor ainda é string\n",
        "texto.split('\\n')[6].replace('\\t', '').split(\"R$\")[1]"
      ],
      "execution_count": 13,
      "outputs": [
        {
          "output_type": "execute_result",
          "data": {
            "application/vnd.google.colaboratory.intrinsic+json": {
              "type": "string"
            },
            "text/plain": [
              "'1297.00'"
            ]
          },
          "metadata": {
            "tags": []
          },
          "execution_count": 13
        }
      ]
    },
    {
      "cell_type": "code",
      "metadata": {
        "colab": {
          "base_uri": "https://localhost:8080/"
        },
        "id": "KRQupc3uPT8L",
        "outputId": "c12357e7-cc95-4710-fd0a-2c6947f824b0"
      },
      "source": [
        "# transformando em float\n",
        "float(texto.split('\\n')[6].replace('\\t', '').split(\"R$\")[1])"
      ],
      "execution_count": 14,
      "outputs": [
        {
          "output_type": "execute_result",
          "data": {
            "text/plain": [
              "1297.0"
            ]
          },
          "metadata": {
            "tags": []
          },
          "execution_count": 14
        }
      ]
    },
    {
      "cell_type": "code",
      "metadata": {
        "colab": {
          "base_uri": "https://localhost:8080/"
        },
        "id": "NyAdf3CRPdLw",
        "outputId": "84299aae-2d87-48c5-d393-26283e8505c3"
      },
      "source": [
        "# criando um contador\n",
        "soma = 0\n",
        "\n",
        "# criando a função\n",
        "for arquivo in arquivos_semana:\n",
        "  relatorio = pdfplumber.open(arquivo)\n",
        "  pagina = relatorio.pages[0]\n",
        "  texto = pagina.extract_text()\n",
        "  valor = texto.split('\\n')[6].replace('\\t', '').split(\"R$\")[1]\n",
        "  valor = float(valor)\n",
        "  soma = soma + valor\n",
        "  print(arquivo, '---->', valor)"
      ],
      "execution_count": 15,
      "outputs": [
        {
          "output_type": "stream",
          "text": [
            "20200801.pdf ----> 1297.0\n",
            "20200802.pdf ----> 537.0\n",
            "20200803.pdf ----> 554.0\n",
            "20200804.pdf ----> 2554.0\n",
            "20200805.pdf ----> 154.0\n"
          ],
          "name": "stdout"
        }
      ]
    },
    {
      "cell_type": "code",
      "metadata": {
        "colab": {
          "base_uri": "https://localhost:8080/"
        },
        "id": "56zmsbtkQ8Oi",
        "outputId": "d9d7bb03-bd8e-4795-a27e-61399cf9d20b"
      },
      "source": [
        "# soma dos relatórios\n",
        "print('Receita dos últimos 5 dias: R$', soma)"
      ],
      "execution_count": 16,
      "outputs": [
        {
          "output_type": "stream",
          "text": [
            "Receita dos últimos 5 dias: R$ 5096.0\n"
          ],
          "name": "stdout"
        }
      ]
    }
  ]
}